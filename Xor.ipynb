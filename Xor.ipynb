{
 "cells": [
  {
   "cell_type": "code",
   "execution_count": 1,
   "metadata": {},
   "outputs": [],
   "source": [
    "import bn\n",
    "import numpy as np\n",
    "from IPython.display import clear_output"
   ]
  },
  {
   "cell_type": "code",
   "execution_count": 2,
   "metadata": {},
   "outputs": [],
   "source": [
    "%matplotlib inline\n",
    "\n",
    "import matplotlib\n",
    "import matplotlib.pyplot as plt\n",
    "\n",
    "matplotlib.rcParams['figure.figsize'] = [10,7]\n",
    "matplotlib.rcParams['xtick.top'] = True\n",
    "matplotlib.rcParams['xtick.direction'] = 'in'\n",
    "matplotlib.rcParams['xtick.minor.visible'] = True\n",
    "matplotlib.rcParams['ytick.right'] = True\n",
    "matplotlib.rcParams['ytick.direction'] = 'in'\n",
    "matplotlib.rcParams['ytick.minor.visible'] = True\n",
    "matplotlib.rcParams['font.size'] = 19\n",
    "matplotlib.rcParams['font.family'] = 'DejaVu Serif'\n",
    "matplotlib.rcParams['mathtext.default'] = 'regular'\n",
    "matplotlib.rcParams['errorbar.capsize'] = 3"
   ]
  },
  {
   "cell_type": "code",
   "execution_count": 3,
   "metadata": {},
   "outputs": [],
   "source": [
    "s = bn.System()\n",
    "a = s.add_neuron(input=True)\n",
    "b = s.add_neuron(input=True)\n",
    "c = s.add_neuron()\n",
    "d = s.add_neuron()\n",
    "e = s.add_neuron(output=True)"
   ]
  },
  {
   "cell_type": "code",
   "execution_count": 4,
   "metadata": {},
   "outputs": [],
   "source": [
    "c.add_input(a)\n",
    "c.add_input(b)\n",
    "d.add_input(a)\n",
    "d.add_input(b)\n",
    "e.add_input(c)\n",
    "e.add_input(d)\n",
    "s.finalize()"
   ]
  },
  {
   "cell_type": "code",
   "execution_count": 5,
   "metadata": {},
   "outputs": [
    {
     "name": "stdout",
     "output_type": "stream",
     "text": [
      "N[0] = input\n",
      "N[1] = input\n",
      "N[2] = A[(N[0] * -0.1929) + (N[1] * 0.0085) + 0.0000]\n",
      "N[3] = A[(N[0] * -0.2608) + (N[1] * -0.5508) + 0.0000]\n",
      "N[4] = A[(N[2] * -0.1106) + (N[3] * -0.2205) + 0.0000]\n"
     ]
    }
   ],
   "source": [
    "print(a)\n",
    "print(b)\n",
    "print(c)\n",
    "print(d)\n",
    "print(e)"
   ]
  },
  {
   "cell_type": "code",
   "execution_count": 6,
   "metadata": {},
   "outputs": [],
   "source": [
    "xor_cases = [([-1.0,1.0],[1.0]),([1.0,-1.0],[1.0]),([1.0,1.0],[-1.0]),([-1.0,-1.0],[-1.0])]"
   ]
  },
  {
   "cell_type": "code",
   "execution_count": 7,
   "metadata": {},
   "outputs": [],
   "source": [
    "def batch(length=1000):\n",
    "    cases = []\n",
    "    successes = []\n",
    "    for i in range(length):\n",
    "        case = np.random.randint(len(xor_cases))\n",
    "        cases.append(case)\n",
    "        input,true_out = xor_cases[case]\n",
    "        guess_out,state = s.guess(input,return_state=True)\n",
    "        if np.any(guess_out != true_out):\n",
    "            successes.append(False)\n",
    "            s.learn(state,true_out,scale=0.25)\n",
    "        else:\n",
    "            successes.append(True)\n",
    "    return cases,successes"
   ]
  },
  {
   "cell_type": "code",
   "execution_count": 8,
   "metadata": {},
   "outputs": [
    {
     "name": "stdout",
     "output_type": "stream",
     "text": [
      "batch accuracy 547 / 1000\n",
      "batch accuracy 519 / 1000\n",
      "batch accuracy 510 / 1000\n",
      "batch accuracy 561 / 1000\n",
      "batch accuracy 507 / 1000\n",
      "batch accuracy 564 / 1000\n",
      "batch accuracy 753 / 1000\n",
      "batch accuracy 1000 / 1000\n"
     ]
    }
   ],
   "source": [
    "while True:\n",
    "    batch_size = 1000\n",
    "    cases,successes = batch(batch_size)\n",
    "    correct = np.count_nonzero(successes)\n",
    "    print('batch accuracy',correct,'/',len(successes))\n",
    "    if correct/len(successes) > 0.98:\n",
    "        break\n",
    "        "
   ]
  },
  {
   "cell_type": "code",
   "execution_count": 9,
   "metadata": {},
   "outputs": [
    {
     "name": "stdout",
     "output_type": "stream",
     "text": [
      "N[0] = input\n",
      "N[1] = input\n",
      "N[2] = A[(N[0] * -0.2877) + (N[1] * -0.1498) + -0.2295]\n",
      "N[3] = A[(N[0] * 0.2603) + (N[1] * 0.1781) + -0.1425]\n",
      "N[4] = A[(N[2] * -0.7814) + (N[3] * -0.5682) + -0.4230]\n"
     ]
    }
   ],
   "source": [
    "print(a)\n",
    "print(b)\n",
    "print(c)\n",
    "print(d)\n",
    "print(e)"
   ]
  },
  {
   "cell_type": "code",
   "execution_count": 10,
   "metadata": {},
   "outputs": [
    {
     "name": "stdout",
     "output_type": "stream",
     "text": [
      "+++++++++ [-1.0, 1.0] [1.0] [1.]\n",
      "+++++++++ [1.0, -1.0] [1.0] [1.]\n",
      "+++++++++ [1.0, 1.0] [-1.0] [-1.]\n",
      "+++++++++ [-1.0, -1.0] [-1.0] [-1.]\n"
     ]
    }
   ],
   "source": [
    "for i,o in xor_cases:\n",
    "    out,state = s.guess(i,return_state=True)\n",
    "    print('+++++++++' if np.all(out==o) else '--------',i,o,out)"
   ]
  },
  {
   "cell_type": "code",
   "execution_count": null,
   "metadata": {},
   "outputs": [],
   "source": []
  }
 ],
 "metadata": {
  "kernelspec": {
   "display_name": "Python 3.8",
   "language": "python",
   "name": "python3.8"
  },
  "language_info": {
   "codemirror_mode": {
    "name": "ipython",
    "version": 3
   },
   "file_extension": ".py",
   "mimetype": "text/x-python",
   "name": "python",
   "nbconvert_exporter": "python",
   "pygments_lexer": "ipython3",
   "version": "3.8.2"
  }
 },
 "nbformat": 4,
 "nbformat_minor": 2
}
